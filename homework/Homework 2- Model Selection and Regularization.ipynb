{
 "cells": [
  {
   "cell_type": "markdown",
   "metadata": {},
   "source": [
    "## Homework 2 - Model Selection and Regularization\n",
    "In this homework, we will explore the need for regularization and cross validation. Your goal is to determine\n",
    "the *true* model that exists in this superfluous data set. "
   ]
  },
  {
   "cell_type": "markdown",
   "metadata": {},
   "source": [
    "Just a quick reminder on how to submit homework solutions:\n",
    "    \n",
    "``` $ git add myhomeworksolutions.ipynb ```\n",
    "\n",
    "``` $ git commit -m \"added my homework 1 solutions\" ```\n",
    "\n",
    "``` $ git push origin master $ ```"
   ]
  },
  {
   "cell_type": "markdown",
   "metadata": {},
   "source": [
    "Run the cell below to load the libraries"
   ]
  },
  {
   "cell_type": "code",
   "execution_count": 89,
   "metadata": {},
   "outputs": [],
   "source": [
    "import numpy as np\n",
    "from scipy.stats import binom\n",
    "import matplotlib.pyplot as plt\n",
    "import numpy as np\n",
    "import matplotlib.mlab as mlab\n",
    "import math\n",
    "from sklearn.neighbors import KNeighborsRegressor"
   ]
  },
  {
   "cell_type": "markdown",
   "metadata": {},
   "source": [
    "## Problem 1: Not So Nearest Neighbors"
   ]
  },
  {
   "cell_type": "markdown",
   "metadata": {},
   "source": [
    "In this problem we look into the **curse of dimensionality**  (https://en.wikipedia.org/wiki/Curse_of_dimensionality).\n",
    "\n",
    "Recall from lecture that when solving the ordinary least squares, the solution to \n",
    "\n",
    "$$\\min_f \\mathbb{E}_{y \\lvert x} (y - f(x))^2,$$\n",
    "\n",
    "is $$ f(x) = \\mathbb{E}(y \\lvert x).$$\n",
    "\n",
    "\n",
    "As usual though, we only have access to the sampled data $(\\mathbf{x}_i, y_i)$. Thus we seek to find (as seen in lecture)\n",
    "\n",
    "$$ \\hat f(x) :=  \\hat{\\mathbb{E}}(y \\lvert x).$$\n",
    "\n",
    "The simple approach which is the most natural way to estimate $f$ is to average $y_i$ over over observations $x_i$ such that $x_i=x$\n",
    "\n",
    "$$ \\hat{\\mathbb{E}}(y \\lvert x) = \\frac{1}{N_{x_i=x}} \\sum_{x_i, x_i=x} y_i,$$\n",
    "\n",
    "where $N_{x_i=x}$ is the number of points such that $x_i=x$. **But we cannot do this since we only have access to the training data, not all $x$, and we generally have at most one instance of each $x_i$**. Thus we settle for\n",
    "\n",
    "$$ \\hat{\\mathbb{E}}(y \\lvert x) := \\frac{1}{k} \\sum_{x_i \\in N_k(x)} y_i,$$\n",
    "\n",
    "where $N_k(x)$ denotes the set of the $k$ closest points to $x$. \n",
    "\n",
    "### Goal of this problem:\n",
    "To understand how the set $N_k(x)$ behaves as we increase the dimension. The intuition is that it's much harder to find points close to $x$ as we increase the *degrees of freedom* of our samples. We will see that this means we have to search larger distances to find these points, and these points may not reflect the value of $y_i$ well at all!"
   ]
  },
  {
   "cell_type": "markdown",
   "metadata": {},
   "source": [
    "**[15 points]** a) Run the code below to create a sample from a $p$ dimensional uniform distribution, denoted $\\mathcal{U}(-1,1)^p$.  \n",
    "\n"
   ]
  },
  {
   "cell_type": "code",
   "execution_count": 114,
   "metadata": {},
   "outputs": [
    {
     "data": {
      "text/plain": [
       "<matplotlib.collections.PathCollection at 0x1a223fe050>"
      ]
     },
     "execution_count": 114,
     "metadata": {},
     "output_type": "execute_result"
    },
    {
     "data": {
      "image/png": "[encoded data removed]",
      "text/plain": [
       "<Figure size 432x288 with 1 Axes>"
      ]
     },
     "metadata": {},
     "output_type": "display_data"
    }
   ],
   "source": [
    "p=1\n",
    "X=np.zeros(shape=(10,p))\n",
    "for k in range(X.shape[1]):\n",
    "    X[:,k] = np.random.uniform(-1,1,10)\n",
    "plt.scatter(X[:,k] ,[1]*10)"
   ]
  },
  {
   "cell_type": "markdown",
   "metadata": {},
   "source": [
    "What is the distance of $x=0$ to its nearest neighbor? You can use `np.min` and `np.abs` here. "
   ]
  },
  {
   "cell_type": "markdown",
   "metadata": {},
   "source": [
    "Repeat the above but now for $p=2$ and make a scatter plot on $[-1,1] \\times [-1,1]$. Use `X=np.zeros(shape=(10,p))` to initialize the matrix, and make sure that each row is a point sampled from a 2d uniform distribution (you can do this by setting each column to be sampled from a 1d uniform distribution). \n",
    "\n",
    "Finally, repeat the problem for various values of $p$, ($p=10,20,100$, etc. ). What do you notice about the distances? Can you explain why this may be happening?\n"
   ]
  },
  {
   "cell_type": "markdown",
   "metadata": {},
   "source": [
    "**[10 points]** b)  Let's do something more precise to find out what's happening. Assume that there are $N$ points which are uniformly distributed in a sphere in $\\mathbb{R}^n$. Find the probabiltity that the nearest neighbor of the origin is at a distance larger than or equal to $r$ and show that it is\n",
    "\n",
    "$$  P(y \\geq R) = \\left (1- r^p\\right)^N.$$\n",
    "\n",
    "You can assume the volume of the sphere in $\\mathbb{R}^p$ is $C_pr^p$. \n",
    "\n",
    "**Hint:** First find the proability that given one point, that it is not within a ball of radius $r$ centered around the origin. Then use independence to find the case when there are $N$ points. \n",
    "\n",
    "**[5 points]** c) Given your solution to part a), what is the median of the above distribution? \n",
    "\n",
    "**[5 points]** d)  Make a plot of $(p, P(y \\geq 1/2))$ for  $N=50$. What happens as $p \\to +\\infty$ for fixed $N$? (ie. the number of poitns is fixed, but the dimension tends to $+\\infty$). What does this tell you? In other words, where are all of the points accumulating?"
   ]
  },
  {
   "cell_type": "markdown",
   "metadata": {},
   "source": [
    "** [2 points] ** e) Run the code in the cell below. The second cell computes the nearest neighbors regressor for this data. "
   ]
  },
  {
   "cell_type": "code",
   "execution_count": 76,
   "metadata": {},
   "outputs": [
    {
     "data": {
      "text/plain": [
       "<matplotlib.collections.PathCollection at 0x1a212e9790>"
      ]
     },
     "execution_count": 76,
     "metadata": {},
     "output_type": "execute_result"
    },
    {
     "data": {
      "image/png": "[encoded data removed]",
      "text/plain": [
       "<Figure size 432x288 with 1 Axes>"
      ]
     },
     "metadata": {},
     "output_type": "display_data"
    }
   ],
   "source": [
    "\n",
    "%matplotlib inline\n",
    "X = np.random.uniform(-1,1,100)\n",
    "epsilon = np.random.normal(0,0.1,100)\n",
    "y = X + epsilon\n",
    "plt.scatter(X,y)"
   ]
  },
  {
   "cell_type": "code",
   "execution_count": 84,
   "metadata": {},
   "outputs": [
    {
     "data": {
      "text/plain": [
       "<matplotlib.collections.PathCollection at 0x1a213227d0>"
      ]
     },
     "execution_count": 84,
     "metadata": {},
     "output_type": "execute_result"
    },
    {
     "data": {
      "image/png": "[encoded data removed]",
      "text/plain": [
       "<Figure size 432x288 with 1 Axes>"
      ]
     },
     "metadata": {},
     "output_type": "display_data"
    }
   ],
   "source": [
    "T = np.linspace(-1,1,1000)\n",
    "neigh = KNeighborsRegressor(n_neighbors=2)\n",
    "neigh.fit(X.reshape(-1,1), y) \n",
    "\n",
    "y_hat = neigh.predict(X.reshape(-1,1))\n",
    "r2 = round(neigh.score(X.reshape(-1,1),y),2)\n",
    "\n",
    "plt.xlabel(\"actual\")\n",
    "plt.ylabel(\"predicted\")\n",
    "plt.title(\"N=100 and p = {0} has score R^2={1}\".format(p,r2))\n",
    "plt.plot(y,y)\n",
    "plt.scatter(y,y_hat,color='r')\n"
   ]
  },
  {
   "cell_type": "markdown",
   "metadata": {},
   "source": [
    "**[10 points]** e) Repeat the above but for larger dimensions $p=10, 50, 100, 500$ so that the $N$ points are sampled from $\\textrm{Unif}[-1,1]^p$ What happens to the scatter plot of predictions vs true values as the dimension increases? What happens to the $R^2$? Can you explain this in terms of your conclusions from the previous parts a) - c)?"
   ]
  },
  {
   "cell_type": "markdown",
   "metadata": {},
   "source": [
    "## Problem 2: Manual Model Selection"
   ]
  },
  {
   "cell_type": "markdown",
   "metadata": {},
   "source": [
    "In this exercise, we have data which is sampled from a distribution which takes the form:\n",
    " $$y = \\beta^T \\cdot x + \\epsilon.$$\n",
    " \n",
    " We are not told in advance what $\\beta$ is though. That's up to you to discover. "
   ]
  },
  {
   "cell_type": "markdown",
   "metadata": {},
   "source": [
    "**[5 points]** a) Load the data `regularization_hw.csv` into a Pandas dataframe located in `data/` in the course repository. Set $X$ to be the variables $0, \\cdots, 50$ and $y$ to be the $y$ variable. "
   ]
  },
  {
   "cell_type": "markdown",
   "metadata": {},
   "source": [
    "**[5 points]** b) Compute the covariance matrix of $X$ (ie. $X^TX$). What does this tell you about the features?"
   ]
  },
  {
   "cell_type": "markdown",
   "metadata": {},
   "source": [
    "**[10 points]** c) Starting $k$ from 1 and ranging to 50 (the total number of features), build a linear regression model  for $X[:,0:k]$ (where this denotes the matrix restricted to the first k columns), and plot the predictions against the actual values.  What happens as the number of features included increases? Why is this not surprising given what you know about linear alegbra and part b)? Recalling Homework 0 Problem 2 may be helpful. \n",
    "\n",
    "The following code will be useful:"
   ]
  },
  {
   "cell_type": "code",
   "execution_count": null,
   "metadata": {},
   "outputs": [],
   "source": [
    "from sklearn import datasets, linear_model\n",
    "\n",
    "for d in range(0,50):\n",
    "    \n",
    "    X=df_orth.loc[:,'0':str(d)]\n",
    "    # Train the model here using regr = linear_model.LinearRegression(fit_intercept=False)\n",
    "\n",
    "    #y_pred = regr.predict(X)\n",
    "    plt.scatter(x0,y,color='b')\n",
    "    plt.scatter(x0,y_pred,color='r')\n",
    "    plt.show()"
   ]
  },
  {
   "cell_type": "markdown",
   "metadata": {},
   "source": [
    "** [10 points] ** d) Split the data randomly into 80% training and 20% testing using `test_train_split` in Python. Repeat part c) on the training data, and\n",
    "plot the $R^2$ of the model on the training and testing data against the number of features used. What happens to the training and testing error as you do this?"
   ]
  },
  {
   "cell_type": "markdown",
   "metadata": {},
   "source": [
    "** [ 10 points] ** d) We would like to select the optimal subset of features which perform best on unseen data. If we were to evaluate all possible subsets of features out of $k$ features, what would the number of combinations be? Is this computationally feasible? \n",
    "\n",
    "\n",
    "**Hint:** What is the number of ways you can choose $m$ features out of $k$ total possible features? This is a common combinatorial expression. What happens when you sum this expression over $m$? The Theorem Statement of the Binomial Theorem here may be helpful: https://en.wikipedia.org/wiki/Binomial_theorem\n"
   ]
  },
  {
   "cell_type": "markdown",
   "metadata": {},
   "source": [
    "## Problem 3:  Ridge Regularization "
   ]
  },
  {
   "cell_type": "markdown",
   "metadata": {},
   "source": [
    "As an alternative approach, we can simply penalize the size of the coefficients in a way which minimizes our norm.\n",
    "\n",
    "$$ \\hat F_{\\lambda}(\\beta) :=  \\|\\mathbf{y} - \\mathbf{X} \\beta\\|_{L^2}^2 + \\lambda \\|\\beta\\|_{L^2}^2. $$\n",
    "\n"
   ]
  },
  {
   "cell_type": "code",
   "execution_count": 85,
   "metadata": {},
   "outputs": [
    {
     "name": "stderr",
     "output_type": "stream",
     "text": [
      "/anaconda2/lib/python2.7/site-packages/ipykernel_launcher.py:4: SettingWithCopyWarning: \n",
      "A value is trying to be set on a copy of a slice from a DataFrame.\n",
      "Try using .loc[row_indexer,col_indexer] = value instead\n",
      "\n",
      "See the caveats in the documentation: http://pandas.pydata.org/pandas-docs/stable/indexing.html#indexing-view-versus-copy\n",
      "  after removing the cwd from sys.path.\n"
     ]
    },
    {
     "name": "stdout",
     "output_type": "stream",
     "text": [
      "GridSearchCV(cv=2, error_score='raise',\n",
      "       estimator=Lasso(alpha=1.0, copy_X=True, fit_intercept=True, max_iter=1000,\n",
      "   normalize=False, positive=False, precompute=False, random_state=None,\n",
      "   selection='cyclic', tol=0.0001, warm_start=False),\n",
      "       fit_params={}, iid=True, n_jobs=1,\n",
      "       param_grid={'alpha': array([0.003, 0.004, ..., 0.999, 1.   ])},\n",
      "       pre_dispatch='2*n_jobs', refit=True, scoring=None, verbose=0)\n",
      "0.853931184362\n",
      "0.013977977977977979\n"
     ]
    }
   ],
   "source": [
    "from sklearn.grid_search import GridSearchCV\n",
    "\n",
    "alphas=np.linspace(0.003,1,1000)\n",
    "X['20']=X['20']*1000\n",
    "model=linear_model.Lasso()\n",
    "grid = GridSearchCV(estimator=model, param_grid=dict(alpha=alphas),cv=2)\n",
    "grid.fit(X,y)\n",
    "\n",
    "print(grid)\n",
    "# summarize the results of the grid search\n",
    "print(grid.best_score_)\n",
    "print(grid.best_estimator_.alpha)"
   ]
  },
  {
   "cell_type": "markdown",
   "metadata": {},
   "source": [
    "**[5 points]** a) Do we need to scale our data in this case?"
   ]
  },
  {
   "cell_type": "code",
   "execution_count": 32,
   "metadata": {},
   "outputs": [],
   "source": [
    "from sklearn import preprocessing\n",
    "import matplotlib\n",
    "import numpy as np\n",
    "import matplotlib.cm as cm\n",
    "import matplotlib.pyplot as plt\n",
    "import numpy as np\n",
    "X_scaled = preprocessing.scale(X)"
   ]
  },
  {
   "cell_type": "markdown",
   "metadata": {},
   "source": [
    "**[10 points]** a) \n",
    "\n",
    "Use our solution from class,\n",
    "\n",
    "$$\\beta_{\\alpha} = (X^TX + \\alpha I)^{-1}X^Ty$$\n",
    "\n",
    "compute $\\beta$ for an arbitrary value of $\\alpha > 0$. "
   ]
  },
  {
   "cell_type": "markdown",
   "metadata": {},
   "source": [
    "**[10 points]** b) Now repeat a) using `sklearn`'s `Ridge` method. But time time, use `test_train_split` to seperate\n",
    "into training and testing data. Then evaluate performance for different values of $\\alpha$. Can you find an $\\alpha$ which has the best performance? "
   ]
  },
  {
   "cell_type": "markdown",
   "metadata": {},
   "source": [
    "**[10 points]** c) What do the coefficients look like for this optimal solution? You can answer this by plotting. Most importantly, do the maginitudes seem roughly comparable?"
   ]
  },
  {
   "cell_type": "markdown",
   "metadata": {},
   "source": [
    "## Problem 3: Lasso Reguarlization "
   ]
  },
  {
   "cell_type": "markdown",
   "metadata": {},
   "source": [
    "$$ \\hat F_{\\lambda}(\\beta) :=  \\|\\mathbf{y} - \\mathbf{X} \\beta\\|_{L^2}^2 + \\lambda \\|\\beta\\|_{L^1}, $$\n"
   ]
  },
  {
   "cell_type": "markdown",
   "metadata": {},
   "source": [
    "a) Now repeat Problem 2 b) using `sklearn`'s `Lasso` method. How does the optimal performance seem to compare to that of `Ridge`? Ensure you are training on training data and evaluating on testing data. "
   ]
  },
  {
   "cell_type": "markdown",
   "metadata": {},
   "source": [
    "b) What do the coefficients look like for the optimal $\\lambda$ found above? How can you interpret this based on the level sets of $L^1$?"
   ]
  }
 ],
 "metadata": {
  "kernelspec": {
   "display_name": "Python 2",
   "language": "python",
   "name": "python2"
  },
  "language_info": {
   "codemirror_mode": {
    "name": "ipython",
    "version": 2
   },
   "file_extension": ".py",
   "mimetype": "text/x-python",
   "name": "python",
   "nbconvert_exporter": "python",
   "pygments_lexer": "ipython2",
   "version": "2.7.15"
  }
 },
 "nbformat": 4,
 "nbformat_minor": 2
}
